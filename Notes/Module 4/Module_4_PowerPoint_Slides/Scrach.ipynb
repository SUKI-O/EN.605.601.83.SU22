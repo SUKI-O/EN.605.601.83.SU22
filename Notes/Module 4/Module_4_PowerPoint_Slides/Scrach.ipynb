{
 "cells": [
  {
   "cell_type": "markdown",
   "metadata": {},
   "source": [
    "# Extract text from .pptx"
   ]
  },
  {
   "cell_type": "code",
   "execution_count": 22,
   "metadata": {},
   "outputs": [
    {
     "data": {
      "text/plain": [
       "['Requirements_Engineering.pptx',\n",
       " 'Systems_Engineering.pptx',\n",
       " 'Allocating_Requirements.pptx',\n",
       " 'Requirements_Activities_And_Work_Products.pptx',\n",
       " 'Introduction_To_Requirements.pptx',\n",
       " 'Use_Cases_vs_Traditional_Requirements.pptx',\n",
       " 'The_Importance_Of_Requirements.pptx']"
      ]
     },
     "execution_count": 22,
     "metadata": {},
     "output_type": "execute_result"
    }
   ],
   "source": [
    "import pptx\n",
    "from pptx import Presentation\n",
    "import os\n",
    "dir = '/Users/itsukiogihara/Projects/EN.605.601.83.SU22/Notes/Module 4/Module_4_PowerPoint_slides'\n",
    "os.chdir(dir)\n",
    "# print the list of files in the current directory\n",
    "os.listdir(dir)"
   ]
  },
  {
   "cell_type": "code",
   "execution_count": 23,
   "metadata": {},
   "outputs": [],
   "source": [
    "def extract_text_from_pptx(dir):\n",
    "    \"\"\"\n",
    "        Extract text from pptx file\n",
    "        Input: dir: directory of pptx file'\n",
    "        Output: text: text extracted from pptx file\n",
    "    \"\"\"\n",
    "    d = {}\n",
    "    for file in os.listdir(dir):\n",
    "        if file.endswith(\".pptx\"):\n",
    "            f = open(file, 'rb')\n",
    "            prs = Presentation(f)\n",
    "            texts = []\n",
    "            for slide in prs.slides:\n",
    "                if slide.notes_slide.notes_text_frame.text is not None:\n",
    "                    texts.append(slide.notes_slide.notes_text_frame.text)\n",
    "                for shape in slide.shapes:\n",
    "                    if not shape.has_text_frame:\n",
    "                        continue\n",
    "                    for paragraph in shape.text_frame.paragraphs:\n",
    "                        texts.append(paragraph.text)\n",
    "            d[file] = texts\n",
    "            f.close()\n",
    "    return d\n",
    "\n",
    "d = extract_text_from_pptx(dir)"
   ]
  },
  {
   "cell_type": "code",
   "execution_count": 45,
   "metadata": {},
   "outputs": [],
   "source": [
    "texts = ''\n",
    "for key, val in d.items():\n",
    "    #print(key)\n",
    "    text = ' '.join(val)\n",
    "    texts = texts + text + ' '\n",
    "with open('/Users/itsukiogihara/Projects/EN.605.601.83.SU22/Notes/Module 4/Module_4_PowerPoint_Slides/texts.txt', 'w') as f:\n",
    "    f.write(texts)\n",
    "\n",
    "    "
   ]
  },
  {
   "cell_type": "markdown",
   "metadata": {},
   "source": [
    "# Extract text from .pdf"
   ]
  },
  {
   "cell_type": "code",
   "execution_count": 35,
   "metadata": {},
   "outputs": [
    {
     "data": {
      "text/plain": [
       "['4F_Requirements_Activities_And_Work_Products.pdf',\n",
       " '.DS_Store',\n",
       " '4C_Requirements_Engineering.txt',\n",
       " '4C_Requirements_Engineering.pdf',\n",
       " '4F_Requirements_Activities_And_Work_Products.txt',\n",
       " '4E_The_Importance_Of_Requirements.txt',\n",
       " '4B_Allocating_Requirements.txt',\n",
       " '4A_Systems_Engineering.txt',\n",
       " '4G_Use_Cases_vs_Traditional_Requirements.pdf',\n",
       " '4D_Introduction_to_Requirements.txt',\n",
       " 'module4.txt',\n",
       " '4B_Allocating_Requirements.pdf',\n",
       " '4E_The_Importance_Of_Requirements.pdf',\n",
       " '4D_Introduction_to_Requirements.pdf',\n",
       " '4A_Systems_Engineering.pdf',\n",
       " '4G_Use_Cases_vs_Traditional_Requirements.txt']"
      ]
     },
     "execution_count": 35,
     "metadata": {},
     "output_type": "execute_result"
    }
   ],
   "source": [
    "# Extract text from pptx file in python\n",
    "dir = '/Users/itsukiogihara/Projects/EN.605.601.83.SU22/Notes/Module 4/Module04_Slides/'\n",
    "os.chdir(dir)\n",
    "print(os.listdir(dir))\n",
    "for f in os.listdir(dir):\n",
    "    if f.endswith(\".pdf\"):\n",
    "        cmd = 'pdftotext ' +\"-enc UTF-8 \" + f + ' ' + f.replace('.pdf', '.txt')\n",
    "        os.system(cmd)\n",
    "\n",
    "# alternative way to extract text from pdf file in bash/shell\n",
    "# for file in ./*pdf\n",
    "# do \n",
    "#     pdftotext -enc UTF-8 $file \n",
    "# done\n"
   ]
  },
  {
   "cell_type": "code",
   "execution_count": null,
   "metadata": {},
   "outputs": [],
   "source": []
  }
 ],
 "metadata": {
  "kernelspec": {
   "display_name": "Python 3.9.12 64-bit",
   "language": "python",
   "name": "python3"
  },
  "language_info": {
   "codemirror_mode": {
    "name": "ipython",
    "version": 3
   },
   "file_extension": ".py",
   "mimetype": "text/x-python",
   "name": "python",
   "nbconvert_exporter": "python",
   "pygments_lexer": "ipython3",
   "version": "3.9.12"
  },
  "orig_nbformat": 4,
  "vscode": {
   "interpreter": {
    "hash": "949777d72b0d2535278d3dc13498b2535136f6dfe0678499012e853ee9abcab1"
   }
  }
 },
 "nbformat": 4,
 "nbformat_minor": 2
}
